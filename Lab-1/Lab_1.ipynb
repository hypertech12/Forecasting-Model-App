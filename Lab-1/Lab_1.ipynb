{
  "nbformat": 4,
  "nbformat_minor": 0,
  "metadata": {
    "colab": {
      "provenance": [],
      "include_colab_link": true
    },
    "kernelspec": {
      "name": "python3",
      "display_name": "Python 3"
    },
    "language_info": {
      "name": "python"
    }
  },
  "cells": [
    {
      "cell_type": "markdown",
      "metadata": {
        "id": "view-in-github",
        "colab_type": "text"
      },
      "source": [
        "<a href=\"https://colab.research.google.com/github/hypertech12/RohitChivukulaAPP/blob/main/Lab-1/Lab_1.ipynb\" target=\"_parent\"><img src=\"https://colab.research.google.com/assets/colab-badge.svg\" alt=\"Open In Colab\"/></a>"
      ]
    },
    {
      "cell_type": "code",
      "source": [
        "# Clone the repository with minimal data\n",
        "# --depth 1: Only fetch the latest commit (makes cloning faster)\n",
        "# --filter=blob:none: Prevents downloading all file contents (saves space)\n",
        "# --sparse: Enables sparse checkout (to select specific folders)\n",
        "!git clone --depth 1 --filter=blob:none --sparse https://github.com/LLM-AI-INDIA/GenAI-Bootcamp-FEB2025.git\n",
        "\n",
        "# Change directory to the cloned repository\n",
        "%cd GenAI-Bootcamp-FEB2025\n",
        "\n",
        "# Enable sparse-checkout and download only the \"Lab-1\" folder\n",
        "!git sparse-checkout set Lab-1\n",
        "\n",
        "# Navigate to the \"Lab-1\" folder inside the cloned repo\n",
        "%cd /content/GenAI-Bootcamp-FEB2025/Lab-1\n",
        "\n",
        "# Install dependencies from the requirements.txt file\n",
        "!pip install -r requirements.txt\n",
        "\n",
        "# Install pyngrok\n",
        "!pip install pyngrok\n",
        "\n",
        "# Import necessary modules\n",
        "from pyngrok import ngrok\n",
        "\n",
        "# Set up ngrok with authentication token\n",
        "ngrok.set_auth_token(\"YOUR_TOKEN\")\n",
        "\n",
        "# Set up ngrok\n",
        "public_url = ngrok.connect(8501)\n",
        "print(f'Public URL: {public_url}')\n",
        "\n",
        "# Run the Streamlit app\n",
        "get_ipython().system_raw('streamlit run app.py &')\n",
        "\n",
        "# Keep the tunnel open\n",
        "import time\n",
        "time.sleep(60*20)  # Keep the tunnel open for 20 minutes"
      ],
      "metadata": {
        "id": "kOuH5w9kXAqI",
        "outputId": "353bcc95-fa28-44f4-dbae-d01abd7be257",
        "colab": {
          "base_uri": "https://localhost:8080/"
        }
      },
      "execution_count": null,
      "outputs": [
        {
          "metadata": {
            "tags": null
          },
          "name": "stdout",
          "output_type": "stream",
          "text": [
            "fatal: destination path 'GenAI-Bootcamp-FEB2025' already exists and is not an empty directory.\n",
            "/content/GenAI-Bootcamp-FEB2025/Lab-1/GenAI-Bootcamp-FEB2025\n",
            "/content/GenAI-Bootcamp-FEB2025/Lab-1\n",
            "Requirement already satisfied: pandas==2.2.2 in /usr/local/lib/python3.11/dist-packages (from -r requirements.txt (line 1)) (2.2.2)\n",
            "Requirement already satisfied: streamlit==1.28.2 in /usr/local/lib/python3.11/dist-packages (from -r requirements.txt (line 2)) (1.28.2)\n",
            "Requirement already satisfied: streamlit_chat==0.1.1 in /usr/local/lib/python3.11/dist-packages (from -r requirements.txt (line 3)) (0.1.1)\n",
            "Requirement already satisfied: openpyxl==3.1.5 in /usr/local/lib/python3.11/dist-packages (from -r requirements.txt (line 4)) (3.1.5)\n",
            "Requirement already satisfied: numpy>=1.23.2 in /usr/local/lib/python3.11/dist-packages (from pandas==2.2.2->-r requirements.txt (line 1)) (1.26.4)\n",
            "Requirement already satisfied: python-dateutil>=2.8.2 in /usr/local/lib/python3.11/dist-packages (from pandas==2.2.2->-r requirements.txt (line 1)) (2.8.2)\n",
            "Requirement already satisfied: pytz>=2020.1 in /usr/local/lib/python3.11/dist-packages (from pandas==2.2.2->-r requirements.txt (line 1)) (2025.1)\n",
            "Requirement already satisfied: tzdata>=2022.7 in /usr/local/lib/python3.11/dist-packages (from pandas==2.2.2->-r requirements.txt (line 1)) (2025.1)\n",
            "Requirement already satisfied: altair<6,>=4.0 in /usr/local/lib/python3.11/dist-packages (from streamlit==1.28.2->-r requirements.txt (line 2)) (5.5.0)\n",
            "Requirement already satisfied: blinker<2,>=1.0.0 in /usr/local/lib/python3.11/dist-packages (from streamlit==1.28.2->-r requirements.txt (line 2)) (1.9.0)\n",
            "Requirement already satisfied: cachetools<6,>=4.0 in /usr/local/lib/python3.11/dist-packages (from streamlit==1.28.2->-r requirements.txt (line 2)) (5.5.1)\n",
            "Requirement already satisfied: click<9,>=7.0 in /usr/local/lib/python3.11/dist-packages (from streamlit==1.28.2->-r requirements.txt (line 2)) (8.1.8)\n",
            "Requirement already satisfied: importlib-metadata<7,>=1.4 in /usr/local/lib/python3.11/dist-packages (from streamlit==1.28.2->-r requirements.txt (line 2)) (6.11.0)\n",
            "Requirement already satisfied: packaging<24,>=16.8 in /usr/local/lib/python3.11/dist-packages (from streamlit==1.28.2->-r requirements.txt (line 2)) (23.2)\n",
            "Requirement already satisfied: pillow<11,>=7.1.0 in /usr/local/lib/python3.11/dist-packages (from streamlit==1.28.2->-r requirements.txt (line 2)) (10.4.0)\n",
            "Requirement already satisfied: protobuf<5,>=3.20 in /usr/local/lib/python3.11/dist-packages (from streamlit==1.28.2->-r requirements.txt (line 2)) (4.25.6)\n",
            "Requirement already satisfied: pyarrow>=6.0 in /usr/local/lib/python3.11/dist-packages (from streamlit==1.28.2->-r requirements.txt (line 2)) (17.0.0)\n",
            "Requirement already satisfied: requests<3,>=2.27 in /usr/local/lib/python3.11/dist-packages (from streamlit==1.28.2->-r requirements.txt (line 2)) (2.32.3)\n",
            "Requirement already satisfied: rich<14,>=10.14.0 in /usr/local/lib/python3.11/dist-packages (from streamlit==1.28.2->-r requirements.txt (line 2)) (13.9.4)\n",
            "Requirement already satisfied: tenacity<9,>=8.1.0 in /usr/local/lib/python3.11/dist-packages (from streamlit==1.28.2->-r requirements.txt (line 2)) (8.5.0)\n",
            "Requirement already satisfied: toml<2,>=0.10.1 in /usr/local/lib/python3.11/dist-packages (from streamlit==1.28.2->-r requirements.txt (line 2)) (0.10.2)\n",
            "Requirement already satisfied: typing-extensions<5,>=4.3.0 in /usr/local/lib/python3.11/dist-packages (from streamlit==1.28.2->-r requirements.txt (line 2)) (4.12.2)\n",
            "Requirement already satisfied: tzlocal<6,>=1.1 in /usr/local/lib/python3.11/dist-packages (from streamlit==1.28.2->-r requirements.txt (line 2)) (5.2)\n",
            "Requirement already satisfied: validators<1,>=0.2 in /usr/local/lib/python3.11/dist-packages (from streamlit==1.28.2->-r requirements.txt (line 2)) (0.34.0)\n",
            "Requirement already satisfied: gitpython!=3.1.19,<4,>=3.0.7 in /usr/local/lib/python3.11/dist-packages (from streamlit==1.28.2->-r requirements.txt (line 2)) (3.1.44)\n",
            "Requirement already satisfied: pydeck<1,>=0.8.0b4 in /usr/local/lib/python3.11/dist-packages (from streamlit==1.28.2->-r requirements.txt (line 2)) (0.9.1)\n",
            "Requirement already satisfied: tornado<7,>=6.0.3 in /usr/local/lib/python3.11/dist-packages (from streamlit==1.28.2->-r requirements.txt (line 2)) (6.4.2)\n",
            "Requirement already satisfied: watchdog>=2.1.5 in /usr/local/lib/python3.11/dist-packages (from streamlit==1.28.2->-r requirements.txt (line 2)) (6.0.0)\n",
            "Requirement already satisfied: et-xmlfile in /usr/local/lib/python3.11/dist-packages (from openpyxl==3.1.5->-r requirements.txt (line 4)) (2.0.0)\n",
            "Requirement already satisfied: jinja2 in /usr/local/lib/python3.11/dist-packages (from altair<6,>=4.0->streamlit==1.28.2->-r requirements.txt (line 2)) (3.1.5)\n",
            "Requirement already satisfied: jsonschema>=3.0 in /usr/local/lib/python3.11/dist-packages (from altair<6,>=4.0->streamlit==1.28.2->-r requirements.txt (line 2)) (4.23.0)\n",
            "Requirement already satisfied: narwhals>=1.14.2 in /usr/local/lib/python3.11/dist-packages (from altair<6,>=4.0->streamlit==1.28.2->-r requirements.txt (line 2)) (1.25.1)\n",
            "Requirement already satisfied: gitdb<5,>=4.0.1 in /usr/local/lib/python3.11/dist-packages (from gitpython!=3.1.19,<4,>=3.0.7->streamlit==1.28.2->-r requirements.txt (line 2)) (4.0.12)\n",
            "Requirement already satisfied: zipp>=0.5 in /usr/local/lib/python3.11/dist-packages (from importlib-metadata<7,>=1.4->streamlit==1.28.2->-r requirements.txt (line 2)) (3.21.0)\n",
            "Requirement already satisfied: six>=1.5 in /usr/local/lib/python3.11/dist-packages (from python-dateutil>=2.8.2->pandas==2.2.2->-r requirements.txt (line 1)) (1.17.0)\n",
            "Requirement already satisfied: charset-normalizer<4,>=2 in /usr/local/lib/python3.11/dist-packages (from requests<3,>=2.27->streamlit==1.28.2->-r requirements.txt (line 2)) (3.4.1)\n",
            "Requirement already satisfied: idna<4,>=2.5 in /usr/local/lib/python3.11/dist-packages (from requests<3,>=2.27->streamlit==1.28.2->-r requirements.txt (line 2)) (3.10)\n",
            "Requirement already satisfied: urllib3<3,>=1.21.1 in /usr/local/lib/python3.11/dist-packages (from requests<3,>=2.27->streamlit==1.28.2->-r requirements.txt (line 2)) (2.3.0)\n",
            "Requirement already satisfied: certifi>=2017.4.17 in /usr/local/lib/python3.11/dist-packages (from requests<3,>=2.27->streamlit==1.28.2->-r requirements.txt (line 2)) (2025.1.31)\n",
            "Requirement already satisfied: markdown-it-py>=2.2.0 in /usr/local/lib/python3.11/dist-packages (from rich<14,>=10.14.0->streamlit==1.28.2->-r requirements.txt (line 2)) (3.0.0)\n",
            "Requirement already satisfied: pygments<3.0.0,>=2.13.0 in /usr/local/lib/python3.11/dist-packages (from rich<14,>=10.14.0->streamlit==1.28.2->-r requirements.txt (line 2)) (2.18.0)\n",
            "Requirement already satisfied: smmap<6,>=3.0.1 in /usr/local/lib/python3.11/dist-packages (from gitdb<5,>=4.0.1->gitpython!=3.1.19,<4,>=3.0.7->streamlit==1.28.2->-r requirements.txt (line 2)) (5.0.2)\n",
            "Requirement already satisfied: MarkupSafe>=2.0 in /usr/local/lib/python3.11/dist-packages (from jinja2->altair<6,>=4.0->streamlit==1.28.2->-r requirements.txt (line 2)) (3.0.2)\n",
            "Requirement already satisfied: attrs>=22.2.0 in /usr/local/lib/python3.11/dist-packages (from jsonschema>=3.0->altair<6,>=4.0->streamlit==1.28.2->-r requirements.txt (line 2)) (25.1.0)\n",
            "Requirement already satisfied: jsonschema-specifications>=2023.03.6 in /usr/local/lib/python3.11/dist-packages (from jsonschema>=3.0->altair<6,>=4.0->streamlit==1.28.2->-r requirements.txt (line 2)) (2024.10.1)\n",
            "Requirement already satisfied: referencing>=0.28.4 in /usr/local/lib/python3.11/dist-packages (from jsonschema>=3.0->altair<6,>=4.0->streamlit==1.28.2->-r requirements.txt (line 2)) (0.36.2)\n",
            "Requirement already satisfied: rpds-py>=0.7.1 in /usr/local/lib/python3.11/dist-packages (from jsonschema>=3.0->altair<6,>=4.0->streamlit==1.28.2->-r requirements.txt (line 2)) (0.22.3)\n",
            "Requirement already satisfied: mdurl~=0.1 in /usr/local/lib/python3.11/dist-packages (from markdown-it-py>=2.2.0->rich<14,>=10.14.0->streamlit==1.28.2->-r requirements.txt (line 2)) (0.1.2)\n",
            "Requirement already satisfied: pyngrok in /usr/local/lib/python3.11/dist-packages (7.2.3)\n",
            "Requirement already satisfied: PyYAML>=5.1 in /usr/local/lib/python3.11/dist-packages (from pyngrok) (6.0.2)\n",
            "Public URL: NgrokTunnel: \"https://82bb-34-86-193-132.ngrok-free.app\" -> \"http://localhost:8501\"\n"
          ]
        }
      ]
    }
  ]
}